{
 "cells": [
  {
   "cell_type": "code",
   "execution_count": 1,
   "metadata": {},
   "outputs": [
    {
     "name": "stdout",
     "output_type": "stream",
     "text": [
      "2.6.0\n",
      "[PhysicalDevice(name='/physical_device:GPU:0', device_type='GPU')]\n"
     ]
    }
   ],
   "source": [
    "import logging\n",
    "import tensorflow as tf\n",
    "import math\n",
    "import pandas as pd\n",
    "from sklearn.preprocessing import MinMaxScaler\n",
    "from sklearn.metrics import r2_score\n",
    "\n",
    "import matplotlib.pyplot as plt\n",
    "import time\n",
    "import numpy as np\n",
    "import pickle\n",
    "import itertools as it\n",
    "from tensorflow.keras import backend as K, initializers, regularizers, constraints\n",
    "from tensorflow.keras.layers import Layer\n",
    "import tensorflow_addons as tfa\n",
    "from sklearn.metrics import mean_absolute_error\n",
    "from functools import partial\n",
    "import itertools\n",
    "import random\n",
    "import os\n",
    "import absl.logging\n",
    "import json\n",
    "absl.logging.set_verbosity(absl.logging.ERROR)\n",
    "print(tf.__version__)\n",
    "print(tf.config.list_physical_devices('GPU'))\n",
    "os.environ['PYTHONHASHSEED']=str(123)\n",
    "os.environ['TF_CUDNN_DETERMINISTIC'] = '1'"
   ]
  },
  {
   "cell_type": "code",
   "execution_count": 6,
   "metadata": {},
   "outputs": [
    {
     "name": "stdout",
     "output_type": "stream",
     "text": [
      "<class 'pandas.core.frame.DataFrame'>\n",
      "RangeIndex: 96408 entries, 0 to 96407\n",
      "Data columns (total 8 columns):\n",
      " #   Column                      Non-Null Count  Dtype  \n",
      "---  ------                      --------------  -----  \n",
      " 0   FECHA_HORA                  96408 non-null  object \n",
      " 1   BERMEJALES-CO-AT_IN         91109 non-null  object \n",
      " 2   BERMEJALES-NO2-AT_IN        88096 non-null  object \n",
      " 3   BERMEJALES-O3-AT_IN         93492 non-null  object \n",
      " 4   BERMEJALES-PM10-AT_IN       77552 non-null  object \n",
      " 5   BERMEJALES-TMP Media-AT_IN  95303 non-null  object \n",
      " 6   BERMEJALES-VV-AT_IN         64399 non-null  object \n",
      " 7   Unnamed: 7                  0 non-null      float64\n",
      "dtypes: float64(1), object(7)\n",
      "memory usage: 5.9+ MB\n"
     ]
    }
   ],
   "source": [
    "pd.read_csv('../data/bermejales.txt', sep=';').info()"
   ]
  }
 ],
 "metadata": {
  "kernelspec": {
   "display_name": "Python 3",
   "language": "python",
   "name": "python3"
  },
  "language_info": {
   "codemirror_mode": {
    "name": "ipython",
    "version": 3
   },
   "file_extension": ".py",
   "mimetype": "text/x-python",
   "name": "python",
   "nbconvert_exporter": "python",
   "pygments_lexer": "ipython3",
   "version": "3.6.9"
  }
 },
 "nbformat": 4,
 "nbformat_minor": 2
}
